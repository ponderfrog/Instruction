{
 "cells": [
  {
   "cell_type": "markdown",
   "metadata": {},
   "source": [
    "### 虚拟环境\n",
    "\n",
    "conda create -n name python=3.6.1\n",
    "\n",
    "conda activate name\n",
    "\n",
    "conda deactivate\n",
    "\n",
    "conda remove -n name --all\n",
    "\n",
    "conda info --envs\n",
    "conda env list"
   ]
  },
  {
   "cell_type": "markdown",
   "metadata": {},
   "source": [
    "### 包管理\n",
    "\n",
    "conda install -n name package_name\n",
    "\n",
    "conda remove -n name package_name"
   ]
  }
 ],
 "metadata": {
  "language_info": {
   "name": "python"
  }
 },
 "nbformat": 4,
 "nbformat_minor": 2
}
